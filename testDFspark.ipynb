{
 "cells": [
  {
   "cell_type": "code",
   "execution_count": 17,
   "metadata": {},
   "outputs": [],
   "source": [
    "from pyspark.sql import *\n",
    "from pyspark import SparkContext, SparkConf\n",
    "import json\n",
    "import numpy as np\n",
    "import requests\n",
    "from pyspark.sql import dataframe\n",
    "from pyspark.sql.types import *"
   ]
  },
  {
   "cell_type": "code",
   "execution_count": null,
   "metadata": {},
   "outputs": [],
   "source": []
  },
  {
   "cell_type": "code",
   "execution_count": 29,
   "metadata": {},
   "outputs": [],
   "source": [
    "spark = SparkSession.builder \\\n",
    "    .master(\"local\") \\\n",
    "    .appName(\"HistData\") \\\n",
    "    .config(\"spark.debug.maxToStringFields\", \"1000\") \\\n",
    "    .getOrCreate()\n"
   ]
  },
  {
   "cell_type": "code",
   "execution_count": 26,
   "metadata": {},
   "outputs": [],
   "source": [
    "def getResourceDict (json):\n",
    "    # по листу метрики из json данных возвращает словарь процессов\n",
    "    list_data = json['data']['result'] # список словарей по процессам\n",
    "    # предобработка\n",
    "#     for i in list_data:\n",
    "#         for j in range(len(i[\"values\"])):\n",
    "#             i[\"values\"][j][1] = int(i[\"values\"][j][1])\n",
    "    # values_list = list(map(lambda x: x[\"values\"], list_data))\n",
    "    resourceTypeDict = dict(map(lambda x: (x[\"metric\"][\"resource_type\"], x[\"values\"]), list_data))\n",
    "    # iterObj = iter(resourceTypeDict)\n",
    "    # print(list(iterObj))\n",
    "    return resourceTypeDict"
   ]
  },
  {
   "cell_type": "code",
   "execution_count": 30,
   "metadata": {},
   "outputs": [
    {
     "name": "stdout",
     "output_type": "stream",
     "text": [
      "3324\n",
      "#### Columns: 6 #### 37\n",
      "root\n",
      " |-- Time: double (nullable = true)\n",
      " |-- AGMService.exe_5208_1604522690.0_0: string (nullable = true)\n",
      " |-- AGMService.exe_5208_1604522690.0_1: string (nullable = true)\n",
      " |-- AGMService.exe_5208_1604522690.0_10: string (nullable = true)\n",
      " |-- AGMService.exe_5208_1604522690.0_11: string (nullable = true)\n",
      " |-- AGMService.exe_5208_1604522690.0_2: string (nullable = true)\n",
      "\n"
     ]
    }
   ],
   "source": [
    "# response = requests.get('http://localhost:9090/api/v1/query?query=' + 'PIDMemory' + '[24h]')\n",
    "# listData = response.json()\n",
    "\n",
    "with open('C:/Users/Lenovo/Desktop/repoMon/MonitoringSystem/query.json', 'r') as j:\n",
    "    json_data = json.load(j)\n",
    "    # print(json_data)\n",
    "\n",
    "resourceTypeDict = getResourceDict(json_data)\n",
    "column_list = list(resourceTypeDict.keys())\n",
    "print(len(column_list))\n",
    "data = list(resourceTypeDict.values())\n",
    "col = ['Time'] + list(resourceTypeDict.keys())\n",
    "\n",
    "df = None\n",
    "for el in column_list[:5]:\n",
    "    df_schema = StructType([StructField(\"Time\", FloatType(), True), StructField(el, DoubleType(), True)])\n",
    "    if df is None:\n",
    "        df = spark.createDataFrame(resourceTypeDict[el])\n",
    "        df = df.toDF(\"Time\", el)\n",
    "    else:\n",
    "        df_right = spark.createDataFrame(resourceTypeDict[el]).toDF(\"Time\", el)\n",
    "        # df_right[el] = df_right[el].withColumn(el, df_right[el].cast('int').alias(el))\n",
    "        # df_right[el] = df_right[el].cast(FloatType())\n",
    "        df = df.join(df_right, \"Time\", \"right\")\n",
    "\n",
    "print(f\"#### Columns: {len(df.columns)} #### {df.count()}\")\n",
    "df.printSchema()"
   ]
  },
  {
   "cell_type": "code",
   "execution_count": 32,
   "metadata": {},
   "outputs": [
    {
     "name": "stdout",
     "output_type": "stream",
     "text": [
      "+----------------+----------------------------------+----------------------------------+-----------------------------------+-----------------------------------+----------------------------------+\n",
      "|            Time|AGMService.exe_5208_1604522690.0_0|AGMService.exe_5208_1604522690.0_1|AGMService.exe_5208_1604522690.0_10|AGMService.exe_5208_1604522690.0_11|AGMService.exe_5208_1604522690.0_2|\n",
      "+----------------+----------------------------------+----------------------------------+-----------------------------------+-----------------------------------+----------------------------------+\n",
      "|1.604762586663E9|                           7327744|                           3756032|                            3911680|                            3756032|                              5587|\n",
      "|1.604762241663E9|                           7471104|                           3756032|                            3911680|                            3756032|                              5587|\n",
      "|1.604762361663E9|                           7446528|                           3756032|                            3911680|                            3756032|                              5587|\n",
      "|1.604762436662E9|                           7446528|                           3756032|                            3911680|                            3756032|                              5587|\n",
      "|1.604762511663E9|                           7438336|                           3756032|                            3911680|                            3756032|                              5587|\n",
      "+----------------+----------------------------------+----------------------------------+-----------------------------------+-----------------------------------+----------------------------------+\n",
      "only showing top 5 rows\n",
      "\n"
     ]
    }
   ],
   "source": [
    "df.show(5)"
   ]
  },
  {
   "cell_type": "code",
   "execution_count": 13,
   "metadata": {},
   "outputs": [
    {
     "name": "stdout",
     "output_type": "stream",
     "text": [
      "[[['t1', 'v1'], ['t2', 'v2']], [['t1', 'v2'], ['t2', 'v2']]]\n",
      "[['t1', 'v1', 'v2'], ['t2', 'v1', 'v2']]\n"
     ]
    }
   ],
   "source": [
    "\n"
   ]
  },
  {
   "cell_type": "code",
   "execution_count": 11,
   "metadata": {},
   "outputs": [
    {
     "name": "stderr",
     "output_type": "stream",
     "text": [
      "IOPub data rate exceeded.\n",
      "The notebook server will temporarily stop sending output\n",
      "to the client in order to avoid crashing it.\n",
      "To change this limit, set the config variable\n",
      "`--NotebookApp.iopub_data_rate_limit`.\n",
      "\n",
      "Current values:\n",
      "NotebookApp.iopub_data_rate_limit=1000000.0 (bytes/sec)\n",
      "NotebookApp.rate_limit_window=3.0 (secs)\n",
      "\n"
     ]
    }
   ],
   "source": []
  },
  {
   "cell_type": "code",
   "execution_count": null,
   "metadata": {},
   "outputs": [],
   "source": []
  }
 ],
 "metadata": {
  "celltoolbar": "Edit Metadata",
  "kernelspec": {
   "display_name": "Python 3",
   "language": "python",
   "name": "python3"
  },
  "language_info": {
   "codemirror_mode": {
    "name": "ipython",
    "version": 3
   },
   "file_extension": ".py",
   "mimetype": "text/x-python",
   "name": "python",
   "nbconvert_exporter": "python",
   "pygments_lexer": "ipython3",
   "version": "3.7.4"
  }
 },
 "nbformat": 4,
 "nbformat_minor": 2
}
