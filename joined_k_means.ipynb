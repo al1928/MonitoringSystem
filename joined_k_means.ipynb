{
 "cells": [
  {
   "source": [
    "Закоменченные строки пока не удалять (желательно существующие ячейки не изменять, а создавать новые)"
   ],
   "cell_type": "markdown",
   "metadata": {}
  },
  {
   "cell_type": "code",
   "execution_count": 42,
   "metadata": {
    "collapsed": true
   },
   "outputs": [],
   "source": [
    "# ячейка с импортом необходимого (исключить импорт в других ячейках)\n",
    "from pyspark.sql import *\n",
    "from pyspark import SparkContext, SparkConf\n",
    "import json\n",
    "import numpy as np\n",
    "import requests\n",
    "from pyspark.sql import dataframe\n",
    "from pyspark.sql.types import *\n",
    "import pandas as pd\n",
    "from IPython.display import display, HTML"
   ]
  },
  {
   "cell_type": "code",
   "execution_count": 43,
   "metadata": {
    "collapsed": true
   },
   "outputs": [],
   "source": [
    "# ячека с запуском сессис spark (возможно переделать в функцию)\n",
    "spark = SparkSession.builder \\\n",
    "    .master(\"local\") \\\n",
    "    .appName(\"HistData\") \\\n",
    "    .config(\"spark.debug.maxToStringFields\", \"1000\") \\\n",
    "    .getOrCreate()\n"
   ]
  },
  {
   "cell_type": "code",
   "execution_count": 44,
   "metadata": {
    "collapsed": true
   },
   "outputs": [],
   "source": [
    "def getResourceDict (json):\n",
    "    # по листу метрики из json данных возвращает словарь процессов\n",
    "    list_data = json['data']['result'] # список словарей по процессам\n",
    "    # предобработка - convert to float\n",
    "#     for i in list_data:\n",
    "#         for j in range(len(i[\"values\"])):\n",
    "#             i[\"values\"][j][1] = float(i[\"values\"][j][1])\n",
    "    # values_list = list(map(lambda x: x[\"values\"], list_data))\n",
    "    resourceTypeDict = dict(map(lambda x: (x[\"metric\"][\"resource_type\"], x[\"values\"]), list_data))\n",
    "    # iterObj = iter(resourceTypeDict)\n",
    "    # print(list(iterObj))\n",
    "    return resourceTypeDict"
   ]
  },
  {
   "cell_type": "code",
   "execution_count": 45,
   "metadata": {
    "collapsed": true
   },
   "outputs": [
    {
     "output_type": "stream",
     "name": "stdout",
     "text": [
      "Count (processes x metric);  3324\n",
      "#### Columns: 6 #### 37\n",
      "root\n",
      " |-- Time: double (nullable = true)\n",
      " |-- AGMService.exe_5208_1604522690.0_0: string (nullable = true)\n",
      " |-- AGMService.exe_5208_1604522690.0_1: string (nullable = true)\n",
      " |-- AGMService.exe_5208_1604522690.0_10: string (nullable = true)\n",
      " |-- AGMService.exe_5208_1604522690.0_11: string (nullable = true)\n",
      " |-- AGMService.exe_5208_1604522690.0_2: string (nullable = true)\n",
      "\n"
     ]
    }
   ],
   "source": [
    "# Блок склейки df спарка путем создания новых df в самом спарке (string data)\n",
    "\n",
    "# импорт временного json по API прометеуса\n",
    "# response = requests.get('http://localhost:9090/api/v1/query?query=' + 'PIDMemory' + '[24h]')\n",
    "# listData = response.json()\n",
    "\n",
    "with open('query.json', 'r') as j:\n",
    "    json_data = json.load(j)\n",
    "    # print(json_data)\n",
    "\n",
    "resourceTypeDict = getResourceDict(json_data)\n",
    "column_list = list(resourceTypeDict.keys())\n",
    "print(\"Count (processes x metric); \", len(column_list)) # \n",
    "data = list(resourceTypeDict.values())\n",
    "col = ['Time'] + list(resourceTypeDict.keys())\n",
    "\n",
    "df = None\n",
    "for el in column_list[:5]: # изменять срез для получения большего кол-ва столбцов\n",
    "    # df_schema = StructType([StructField(\"Time\", FloatType(), True), StructField(el, DoubleType(), True)]) - почему-то отторгает такую схему\n",
    "    if df is None:\n",
    "        df = spark.createDataFrame(resourceTypeDict[el]).toDF(\"Time\", el)\n",
    "    else:\n",
    "        df_right = spark.createDataFrame(resourceTypeDict[el]).toDF(\"Time\", el)\n",
    "        df = df.join(df_right, \"Time\", \"right\")\n",
    "\n",
    "print(f\"#### Columns: {len(df.columns)} #### {df.count()}\")\n",
    "df.printSchema()"
   ]
  },
  {
   "cell_type": "code",
   "execution_count": 46,
   "metadata": {},
   "outputs": [],
   "source": [
    "def printDf(sprkDF): \n",
    "    # преобразует спарквский df в пандасовский для нормального визуального отображения\n",
    "    newdf = sprkDF.toPandas()\n",
    "    return HTML(newdf.to_html())"
   ]
  },
  {
   "cell_type": "markdown",
   "metadata": {},
   "source": [
    "Ячейка ниже - копия логики создания объединенного датафрейма но на пандасе (1001 столбец генерит за несколько секунд) c дальнейшим переводом его в df спарка.\n",
    "Для вывода на экран df спарка использовать функцию printDf \n"
   ]
  },
  {
   "cell_type": "code",
   "execution_count": 66,
   "metadata": {
    "tags": []
   },
   "outputs": [
    {
     "output_type": "stream",
     "name": "stdout",
     "text": [
      "3324\n",
      "#### Columns: 11 #### \n",
      "+----------------+----------------------------------+----------------------------------+-----------------------------------+-----------------------------------+----------------------------------+----------------------------------+----------------------------------+----------------------------------+----------------------------------+----------------------------------+\n",
      "|            Time|AGMService.exe_5208_1604522690.0_0|AGMService.exe_5208_1604522690.0_1|AGMService.exe_5208_1604522690.0_10|AGMService.exe_5208_1604522690.0_11|AGMService.exe_5208_1604522690.0_2|AGMService.exe_5208_1604522690.0_3|AGMService.exe_5208_1604522690.0_4|AGMService.exe_5208_1604522690.0_5|AGMService.exe_5208_1604522690.0_6|AGMService.exe_5208_1604522690.0_7|\n",
      "+----------------+----------------------------------+----------------------------------+-----------------------------------+-----------------------------------+----------------------------------+----------------------------------+----------------------------------+----------------------------------+----------------------------------+----------------------------------+\n",
      "|1.604762226663E9|                         7471104.0|                         3756032.0|                          3911680.0|                          3756032.0|                            5587.0|                       1.1341824E7|                         7471104.0|                          138968.0|                          138968.0|                           15880.0|\n",
      "|1.604762241663E9|                         7471104.0|                         3756032.0|                          3911680.0|                          3756032.0|                            5587.0|                       1.1341824E7|                         7471104.0|                          138968.0|                          138968.0|                           15880.0|\n",
      "|1.604762256662E9|                         7467008.0|                         3756032.0|                          3911680.0|                          3756032.0|                            5587.0|                       1.1341824E7|                         7467008.0|                          138968.0|                          138968.0|                           15880.0|\n",
      "|1.604762271662E9|                         7467008.0|                         3756032.0|                          3911680.0|                          3756032.0|                            5587.0|                       1.1341824E7|                         7467008.0|                          138968.0|                          138968.0|                           15880.0|\n",
      "|1.604762286664E9|                         7454720.0|                         3756032.0|                          3911680.0|                          3756032.0|                            5587.0|                       1.1341824E7|                         7454720.0|                          138968.0|                          138968.0|                           15880.0|\n",
      "|1.604762301663E9|                         7454720.0|                         3756032.0|                          3911680.0|                          3756032.0|                            5587.0|                       1.1341824E7|                         7454720.0|                          138968.0|                          138968.0|                           15880.0|\n",
      "|1.604762316663E9|                         7454720.0|                         3756032.0|                          3911680.0|                          3756032.0|                            5587.0|                       1.1341824E7|                         7454720.0|                          138968.0|                          138968.0|                           15880.0|\n",
      "|1.604762331663E9|                         7446528.0|                         3756032.0|                          3911680.0|                          3756032.0|                            5587.0|                       1.1341824E7|                         7446528.0|                          138968.0|                          138968.0|                           15880.0|\n",
      "|1.604762346663E9|                         7446528.0|                         3756032.0|                          3911680.0|                          3756032.0|                            5587.0|                       1.1341824E7|                         7446528.0|                          138968.0|                          138968.0|                           15880.0|\n",
      "|1.604762361663E9|                         7446528.0|                         3756032.0|                          3911680.0|                          3756032.0|                            5587.0|                       1.1341824E7|                         7446528.0|                          138968.0|                          138968.0|                           15880.0|\n",
      "|1.604762376663E9|                         7446528.0|                         3756032.0|                          3911680.0|                          3756032.0|                            5587.0|                       1.1341824E7|                         7446528.0|                          138968.0|                          138968.0|                           15880.0|\n",
      "|1.604762391664E9|                         7446528.0|                         3756032.0|                          3911680.0|                          3756032.0|                            5587.0|                       1.1341824E7|                         7446528.0|                          138968.0|                          138968.0|                           15880.0|\n",
      "|1.604762406664E9|                         7446528.0|                         3756032.0|                          3911680.0|                          3756032.0|                            5587.0|                       1.1341824E7|                         7446528.0|                          138968.0|                          138968.0|                           15880.0|\n",
      "|1.604762421664E9|                         7446528.0|                         3756032.0|                          3911680.0|                          3756032.0|                            5587.0|                       1.1341824E7|                         7446528.0|                          138968.0|                          138968.0|                           15880.0|\n",
      "|1.604762436662E9|                         7446528.0|                         3756032.0|                          3911680.0|                          3756032.0|                            5587.0|                       1.1341824E7|                         7446528.0|                          138968.0|                          138968.0|                           15880.0|\n",
      "|1.604762451662E9|                         7438336.0|                         3756032.0|                          3911680.0|                          3756032.0|                            5587.0|                       1.1341824E7|                         7438336.0|                          138968.0|                          138968.0|                           15880.0|\n",
      "|1.604762466663E9|                         7438336.0|                         3756032.0|                          3911680.0|                          3756032.0|                            5587.0|                       1.1341824E7|                         7438336.0|                          138968.0|                          138968.0|                           15880.0|\n",
      "|1.604762481663E9|                         7438336.0|                         3756032.0|                          3911680.0|                          3756032.0|                            5587.0|                       1.1341824E7|                         7438336.0|                          138968.0|                          138968.0|                           15880.0|\n",
      "|1.604762496662E9|                         7438336.0|                         3756032.0|                          3911680.0|                          3756032.0|                            5587.0|                       1.1341824E7|                         7438336.0|                          138968.0|                          138968.0|                           15880.0|\n",
      "|1.604762511663E9|                         7438336.0|                         3756032.0|                          3911680.0|                          3756032.0|                            5587.0|                       1.1341824E7|                         7438336.0|                          138968.0|                          138968.0|                           15880.0|\n",
      "+----------------+----------------------------------+----------------------------------+-----------------------------------+-----------------------------------+----------------------------------+----------------------------------+----------------------------------+----------------------------------+----------------------------------+----------------------------------+\n",
      "only showing top 20 rows\n",
      "\n"
     ]
    }
   ],
   "source": [
    "# response = requests.get('http://localhost:9090/api/v1/query?query=' + 'PIDMemory' + '[24h]')\n",
    "# listData = response.json()\n",
    "\n",
    "with open('query.json', 'r') as j:\n",
    "    json_data = json.load(j)\n",
    "    # print(json_data)\n",
    "\n",
    "resourceTypeDict = getResourceDict(json_data)\n",
    "column_list = list(resourceTypeDict.keys())\n",
    "print(len(column_list))\n",
    "data = list(resourceTypeDict.values())\n",
    "col = ['Time'] + list(resourceTypeDict.keys())\n",
    "\n",
    "pdf = None\n",
    "for el in column_list[:10]: # изменять срез для получения большего кол-ва столбцов\n",
    "    if pdf is None:\n",
    "        pdf = pd.DataFrame(resourceTypeDict[el], columns=[\"Time\", el])\n",
    "    else:\n",
    "        pdf_right = pd.DataFrame(resourceTypeDict[el], columns=[\"Time\", el])\n",
    "        pdf = pdf.join(pdf_right.set_index(\"Time\"), on =\"Time\")\n",
    "\n",
    "pdf = pdf.astype(float)\n",
    "spark.conf.set(\"spark.sql.debug.maxToStringFields\", \"1000\")\n",
    "df_spark = spark.createDataFrame(pdf)\n",
    "print(f\"#### Columns: {len(pdf.columns)} #### \")\n",
    "df_spark.show()\n",
    "# pdf\n",
    "#printDf(df_spark)"
   ]
  },
  {
   "cell_type": "code",
   "execution_count": 75,
   "metadata": {},
   "outputs": [
    {
     "output_type": "error",
     "ename": "AnalysisException",
     "evalue": "cannot resolve '`AGMService.exe_5208_1604522690.0_0`' given input columns: [AGMService.exe_5208_1604522690.0_0, AGMService.exe_5208_1604522690.0_1, AGMService.exe_5208_1604522690.0_10, AGMService.exe_5208_1604522690.0_11, AGMService.exe_5208_1604522690.0_2, AGMService.exe_5208_1604522690.0_3, AGMService.exe_5208_1604522690.0_4, AGMService.exe_5208_1604522690.0_5, AGMService.exe_5208_1604522690.0_6, AGMService.exe_5208_1604522690.0_7, Time];;\n'Project ['AGMService.exe_5208_1604522690.0_0]\n+- LogicalRDD [Time#554, AGMService.exe_5208_1604522690.0_0#555, AGMService.exe_5208_1604522690.0_1#556, AGMService.exe_5208_1604522690.0_10#557, AGMService.exe_5208_1604522690.0_11#558, AGMService.exe_5208_1604522690.0_2#559, AGMService.exe_5208_1604522690.0_3#560, AGMService.exe_5208_1604522690.0_4#561, AGMService.exe_5208_1604522690.0_5#562, AGMService.exe_5208_1604522690.0_6#563, AGMService.exe_5208_1604522690.0_7#564], false\n",
     "traceback": [
      "\u001b[1;31m---------------------------------------------------------------------------\u001b[0m",
      "\u001b[1;31mAnalysisException\u001b[0m                         Traceback (most recent call last)",
      "\u001b[1;32m<ipython-input-75-e3f178bb46aa>\u001b[0m in \u001b[0;36m<module>\u001b[1;34m\u001b[0m\n\u001b[0;32m      3\u001b[0m \u001b[1;33m\u001b[0m\u001b[0m\n\u001b[0;32m      4\u001b[0m \u001b[1;31m# Loads data.\u001b[0m\u001b[1;33m\u001b[0m\u001b[1;33m\u001b[0m\u001b[0m\n\u001b[1;32m----> 5\u001b[1;33m \u001b[0mdf_spark\u001b[0m\u001b[1;33m.\u001b[0m\u001b[0mselect\u001b[0m\u001b[1;33m(\u001b[0m\u001b[1;33m[\u001b[0m\u001b[0mc\u001b[0m \u001b[1;32mfor\u001b[0m \u001b[0mc\u001b[0m \u001b[1;32min\u001b[0m \u001b[0mdf_spark\u001b[0m\u001b[1;33m.\u001b[0m\u001b[0mcolumns\u001b[0m \u001b[1;32mif\u001b[0m \u001b[0mc\u001b[0m \u001b[1;32min\u001b[0m \u001b[1;33m[\u001b[0m\u001b[1;34m'AGMService.exe_5208_1604522690.0_0'\u001b[0m\u001b[1;33m]\u001b[0m\u001b[1;33m]\u001b[0m\u001b[1;33m)\u001b[0m\u001b[1;33m.\u001b[0m\u001b[0mshow\u001b[0m\u001b[1;33m(\u001b[0m\u001b[1;33m)\u001b[0m\u001b[1;33m\u001b[0m\u001b[0m\n\u001b[0m\u001b[0;32m      6\u001b[0m \u001b[0mdataset\u001b[0m\u001b[1;33m\u001b[0m\u001b[0m\n\u001b[0;32m      7\u001b[0m \u001b[1;33m\u001b[0m\u001b[0m\n",
      "\u001b[1;32m~\\AppData\\Local\\Programs\\Python\\Python37\\lib\\site-packages\\pyspark\\sql\\dataframe.py\u001b[0m in \u001b[0;36mselect\u001b[1;34m(self, *cols)\u001b[0m\n\u001b[0;32m   1419\u001b[0m         \u001b[1;33m[\u001b[0m\u001b[0mRow\u001b[0m\u001b[1;33m(\u001b[0m\u001b[0mname\u001b[0m\u001b[1;33m=\u001b[0m\u001b[1;34mu'Alice'\u001b[0m\u001b[1;33m,\u001b[0m \u001b[0mage\u001b[0m\u001b[1;33m=\u001b[0m\u001b[1;36m12\u001b[0m\u001b[1;33m)\u001b[0m\u001b[1;33m,\u001b[0m \u001b[0mRow\u001b[0m\u001b[1;33m(\u001b[0m\u001b[0mname\u001b[0m\u001b[1;33m=\u001b[0m\u001b[1;34mu'Bob'\u001b[0m\u001b[1;33m,\u001b[0m \u001b[0mage\u001b[0m\u001b[1;33m=\u001b[0m\u001b[1;36m15\u001b[0m\u001b[1;33m)\u001b[0m\u001b[1;33m]\u001b[0m\u001b[1;33m\u001b[0m\u001b[0m\n\u001b[0;32m   1420\u001b[0m         \"\"\"\n\u001b[1;32m-> 1421\u001b[1;33m         \u001b[0mjdf\u001b[0m \u001b[1;33m=\u001b[0m \u001b[0mself\u001b[0m\u001b[1;33m.\u001b[0m\u001b[0m_jdf\u001b[0m\u001b[1;33m.\u001b[0m\u001b[0mselect\u001b[0m\u001b[1;33m(\u001b[0m\u001b[0mself\u001b[0m\u001b[1;33m.\u001b[0m\u001b[0m_jcols\u001b[0m\u001b[1;33m(\u001b[0m\u001b[1;33m*\u001b[0m\u001b[0mcols\u001b[0m\u001b[1;33m)\u001b[0m\u001b[1;33m)\u001b[0m\u001b[1;33m\u001b[0m\u001b[0m\n\u001b[0m\u001b[0;32m   1422\u001b[0m         \u001b[1;32mreturn\u001b[0m \u001b[0mDataFrame\u001b[0m\u001b[1;33m(\u001b[0m\u001b[0mjdf\u001b[0m\u001b[1;33m,\u001b[0m \u001b[0mself\u001b[0m\u001b[1;33m.\u001b[0m\u001b[0msql_ctx\u001b[0m\u001b[1;33m)\u001b[0m\u001b[1;33m\u001b[0m\u001b[0m\n\u001b[0;32m   1423\u001b[0m \u001b[1;33m\u001b[0m\u001b[0m\n",
      "\u001b[1;32m~\\AppData\\Local\\Programs\\Python\\Python37\\lib\\site-packages\\py4j\\java_gateway.py\u001b[0m in \u001b[0;36m__call__\u001b[1;34m(self, *args)\u001b[0m\n\u001b[0;32m   1303\u001b[0m         \u001b[0manswer\u001b[0m \u001b[1;33m=\u001b[0m \u001b[0mself\u001b[0m\u001b[1;33m.\u001b[0m\u001b[0mgateway_client\u001b[0m\u001b[1;33m.\u001b[0m\u001b[0msend_command\u001b[0m\u001b[1;33m(\u001b[0m\u001b[0mcommand\u001b[0m\u001b[1;33m)\u001b[0m\u001b[1;33m\u001b[0m\u001b[0m\n\u001b[0;32m   1304\u001b[0m         return_value = get_return_value(\n\u001b[1;32m-> 1305\u001b[1;33m             answer, self.gateway_client, self.target_id, self.name)\n\u001b[0m\u001b[0;32m   1306\u001b[0m \u001b[1;33m\u001b[0m\u001b[0m\n\u001b[0;32m   1307\u001b[0m         \u001b[1;32mfor\u001b[0m \u001b[0mtemp_arg\u001b[0m \u001b[1;32min\u001b[0m \u001b[0mtemp_args\u001b[0m\u001b[1;33m:\u001b[0m\u001b[1;33m\u001b[0m\u001b[0m\n",
      "\u001b[1;32m~\\AppData\\Local\\Programs\\Python\\Python37\\lib\\site-packages\\pyspark\\sql\\utils.py\u001b[0m in \u001b[0;36mdeco\u001b[1;34m(*a, **kw)\u001b[0m\n\u001b[0;32m    132\u001b[0m                 \u001b[1;31m# Hide where the exception came from that shows a non-Pythonic\u001b[0m\u001b[1;33m\u001b[0m\u001b[1;33m\u001b[0m\u001b[0m\n\u001b[0;32m    133\u001b[0m                 \u001b[1;31m# JVM exception message.\u001b[0m\u001b[1;33m\u001b[0m\u001b[1;33m\u001b[0m\u001b[0m\n\u001b[1;32m--> 134\u001b[1;33m                 \u001b[0mraise_from\u001b[0m\u001b[1;33m(\u001b[0m\u001b[0mconverted\u001b[0m\u001b[1;33m)\u001b[0m\u001b[1;33m\u001b[0m\u001b[0m\n\u001b[0m\u001b[0;32m    135\u001b[0m             \u001b[1;32melse\u001b[0m\u001b[1;33m:\u001b[0m\u001b[1;33m\u001b[0m\u001b[0m\n\u001b[0;32m    136\u001b[0m                 \u001b[1;32mraise\u001b[0m\u001b[1;33m\u001b[0m\u001b[0m\n",
      "\u001b[1;32m~\\AppData\\Local\\Programs\\Python\\Python37\\lib\\site-packages\\pyspark\\sql\\utils.py\u001b[0m in \u001b[0;36mraise_from\u001b[1;34m(e)\u001b[0m\n",
      "\u001b[1;31mAnalysisException\u001b[0m: cannot resolve '`AGMService.exe_5208_1604522690.0_0`' given input columns: [AGMService.exe_5208_1604522690.0_0, AGMService.exe_5208_1604522690.0_1, AGMService.exe_5208_1604522690.0_10, AGMService.exe_5208_1604522690.0_11, AGMService.exe_5208_1604522690.0_2, AGMService.exe_5208_1604522690.0_3, AGMService.exe_5208_1604522690.0_4, AGMService.exe_5208_1604522690.0_5, AGMService.exe_5208_1604522690.0_6, AGMService.exe_5208_1604522690.0_7, Time];;\n'Project ['AGMService.exe_5208_1604522690.0_0]\n+- LogicalRDD [Time#554, AGMService.exe_5208_1604522690.0_0#555, AGMService.exe_5208_1604522690.0_1#556, AGMService.exe_5208_1604522690.0_10#557, AGMService.exe_5208_1604522690.0_11#558, AGMService.exe_5208_1604522690.0_2#559, AGMService.exe_5208_1604522690.0_3#560, AGMService.exe_5208_1604522690.0_4#561, AGMService.exe_5208_1604522690.0_5#562, AGMService.exe_5208_1604522690.0_6#563, AGMService.exe_5208_1604522690.0_7#564], false\n"
     ]
    }
   ],
   "source": [
    "from pyspark.ml.clustering import KMeans\n",
    "from pyspark.ml.evaluation import ClusteringEvaluator\n",
    "\n",
    "# Loads data.\n",
    "df_spark.select([c for c in df_spark.columns if c in ['AGMService.exe_5208_1604522690.0_0']]).show()\n",
    "dataset\n",
    "\n",
    "# Trains a k-means model.\n",
    "kmeans = KMeans().setK(2).setSeed(1)\n",
    "model = kmeans.fit(dataset)\n",
    "\n",
    "# Make predictions\n",
    "predictions = model.transform(dataset)\n",
    "\n",
    "# Evaluate clustering by computing Silhouette score\n",
    "evaluator = ClusteringEvaluator()\n",
    "\n",
    "silhouette = evaluator.evaluate(predictions)\n",
    "print(\"Silhouette with squared euclidean distance = \" + str(silhouette))\n",
    "\n",
    "# Shows the result.\n",
    "centers = model.clusterCenters()\n",
    "print(\"Cluster Centers: \")\n",
    "for center in centers:\n",
    "    print(center)"
   ]
  },
  {
   "cell_type": "code",
   "execution_count": null,
   "metadata": {},
   "outputs": [],
   "source": []
  }
 ],
 "metadata": {
  "kernelspec": {
   "display_name": "Python 3",
   "language": "python",
   "name": "python3"
  },
  "language_info": {
   "codemirror_mode": {
    "name": "ipython",
    "version": 3
   },
   "file_extension": ".py",
   "mimetype": "text/x-python",
   "name": "python",
   "nbconvert_exporter": "python",
   "pygments_lexer": "ipython3",
   "version": "3.7.0-final"
  }
 },
 "nbformat": 4,
 "nbformat_minor": 2
}